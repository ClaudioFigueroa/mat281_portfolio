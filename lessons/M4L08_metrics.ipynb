{
 "cells": [
  {
   "cell_type": "markdown",
   "metadata": {},
   "source": [
    "# Métricas"
   ]
  },
  {
   "cell_type": "markdown",
   "metadata": {},
   "source": [
    "Una métrica es una función que define una distancia entre cada par de elementos de un conjunto. Para nuetro caso, se define una función de distancia entre los valores reales ($y$) y los valores predichos ($\\hat{y}$).\n",
    "\n",
    "Defeniremos algunas métricas bajo dos tipos de contexto: modelos de regresión y modelos de clasificación."
   ]
  },
  {
   "cell_type": "markdown",
   "metadata": {},
   "source": [
    "## Métricas para Regresión"
   ]
  },
  {
   "cell_type": "markdown",
   "metadata": {},
   "source": [
    "Sabemos que los modelos de regresión buscan ajustar un modelo a valores numéricos que no reprensentan etiquetas. La idea es cuantificar el error y seleccionar el mejor modelo. El error corresponde a la diferencia entre el valor original y el valor predicho, es decir:\n",
    "\n",
    "$$e_{i}=y_{i}-\\hat{y}_{i} $$\n",
    "\n",
    "\n",
    "Lo que se busca es medir el error bajo cierta funciones de distancias o métricas. Dentro de las métricas más populares se encuentran:\n",
    "\n",
    "* Métricas absolutas: Las métricas absolutas o no escalada miden el error sin escalar los valores. Las métrica absolutas más ocupadas son:\n",
    "\n",
    "    - Mean Absolute Error (MAE)\n",
    "\n",
    "    $$\\textrm{MAE}(y,\\hat{y}) = \\dfrac{1}{n}\\sum_{t=1}^{n}\\left | y_{t}-\\hat{y}_{t}\\right |$$\n",
    "\n",
    "    - Mean squared error (MSE):\n",
    "    \n",
    "    $$\\textrm{MSE}(y,\\hat{y}) =\\dfrac{1}{n}\\sum_{t=1}^{n}\\left | y_{t}-\\hat{y}_{t}\\right |^2$$\n",
    "\n",
    "* Métricas Porcentuales: Las métricas porcentuales o escaladas miden el error de manera escalada, es decir, se busca acotar el error entre valores de 0 a 1, donde 0 significa que el ajuste es perfecto, mientras que 1 sería un mal ajuste. Cabe destacar que muchas veces las métricas porcentuales puden tener valores mayores a 1.\n",
    "\n",
    "    - Mean absolute percentage error (MAPE):\n",
    "\n",
    "    $$\\textrm{MAPE}(y,\\hat{y}) = \\dfrac{1}{n}\\sum_{t=1}^{n}\\left | \\frac{y_{t}-\\hat{y}_{t}}{y_{t}} \\right |$$\n",
    "\n",
    "    - Symmetric mean absolute percentage error (sMAPE):\n",
    "    \n",
    "    $$\\textrm{sMAPE}(y,\\hat{y}) = \\dfrac{1}{n}\\sum_{t=1}^{n} \\frac{\\left |y_{t}-\\hat{y}_{t}\\right |}{(\\left | y_{t} \\right |^2+\\left | \\hat{y}_{t} \\right |^2)/2}$$"
   ]
  },
  {
   "cell_type": "markdown",
   "metadata": {},
   "source": [
    "## Métricas para Clasificación"
   ]
  },
  {
   "cell_type": "markdown",
   "metadata": {},
   "source": [
    "Sabemos que los modelos de clasificación etiquetan a los datos a partir del entrenamiento. Por lo tanto es necesario introducir nuevos conceptos.\n",
    "\n",
    "Uno de ellos es la matriz de confusión. Típicamente para un clasificador binario se tiene:\n",
    "\n",
    "* `TP`: Verdadero Positivo\n",
    "* `FN`: Falso Negativo\n",
    "* `FP`: Falso positivo\n",
    "* `TN`: Verdadero Negativo\n",
    "\n",
    "En este contexto, los valores `TP` y `TN` muestran los valores correctos que tuve al momento de realizar la predicción, mientras que los valores de de `FN` y `FP` denotan los valores en que la clasificación fue errónea.\n",
    "\n",
    "Una manera eficaz de visualizar estos resultados es con la _matriz de confusión_\n",
    "\n",
    "![confusion_matrix](https://miro.medium.com/max/1780/1*LQ1YMKBlbDhH9K6Ujz8QTw.jpeg)\n",
    "\n",
    "El siguiente ejemplo resolverá todas tus dudas\n",
    "\n",
    "![meme_cm](https://external-content.duckduckgo.com/iu/?u=https%3A%2F%2Fskappal7.files.wordpress.com%2F2018%2F08%2Fconfusion-matrix.jpg%3Fw%3D748&f=1&nofb=1)\n",
    "\n",
    "En un princpio se busca maximizar la suma de los elementos bien clasificados, sin embargo eso depende mucho del problema a resolver. Para esto se definen las siguientes métricas:\n",
    "\n",
    "* Accuracy:\n",
    "\n",
    "    $$\\textrm{accuracy}= \\frac{TP+TN}{TP+TN+FP+FN}$$\n",
    "    \n",
    "* Recall:\n",
    "\n",
    "    $$\\textrm{recall} = \\frac{TP}{TP+FN}$$\n",
    "    \n",
    "* Precision:\n",
    "\n",
    "    $$\\textrm{precision} = \\frac{TP}{TP+FP} $$\n",
    "    \n",
    "* F-score:\n",
    "\n",
    "    $$\\textrm{F_score} = 2\\times \\frac{  \\textrm{precision} \\times \\textrm{recall} }{  \\textrm{precision} + \\textrm{recall} } $$"
   ]
  },
  {
   "cell_type": "markdown",
   "metadata": {},
   "source": [
    "Estas son las más comunes, y como te imaginarás, `scikit-learn` tiene toda una artillería de selección de modelos en este [link](https://scikit-learn.org/stable/modules/model_evaluation.html)."
   ]
  },
  {
   "cell_type": "markdown",
   "metadata": {},
   "source": [
    "## Ejemplo"
   ]
  },
  {
   "cell_type": "code",
   "execution_count": 1,
   "metadata": {},
   "outputs": [],
   "source": [
    "import matplotlib.pyplot as plt\n",
    "import numpy as np\n",
    "import pandas as pd\n",
    "from sklearn.datasets import load_breast_cancer\n",
    "from sklearn.model_selection import train_test_split\n",
    "from sklearn.linear_model import LogisticRegression\n",
    "\n",
    "%matplotlib inline"
   ]
  },
  {
   "cell_type": "code",
   "execution_count": 2,
   "metadata": {},
   "outputs": [
    {
     "name": "stdout",
     "output_type": "stream",
     "text": [
      ".. _breast_cancer_dataset:\n",
      "\n",
      "Breast cancer wisconsin (diagnostic) dataset\n",
      "--------------------------------------------\n",
      "\n",
      "**Data Set Characteristics:**\n",
      "\n",
      "    :Number of Instances: 569\n",
      "\n",
      "    :Number of Attributes: 30 numeric, predictive attributes and the class\n",
      "\n",
      "    :Attribute Information:\n",
      "        - radius (mean of distances from center to points on the perimeter)\n",
      "        - texture (standard deviation of gray-scale values)\n",
      "        - perimeter\n",
      "        - area\n",
      "        - smoothness (local variation in radius lengths)\n",
      "        - compactness (perimeter^2 / area - 1.0)\n",
      "        - concavity (severity of concave portions of the contour)\n",
      "        - concave points (number of concave portions of the contour)\n",
      "        - symmetry\n",
      "        - fractal dimension (\"coastline approximation\" - 1)\n",
      "\n",
      "        The mean, standard error, and \"worst\" or largest (mean of the three\n",
      "        worst/largest values) of these features were computed for each image,\n",
      "        resulting in 30 features.  For instance, field 0 is Mean Radius, field\n",
      "        10 is Radius SE, field 20 is Worst Radius.\n",
      "\n",
      "        - class:\n",
      "                - WDBC-Malignant\n",
      "                - WDBC-Benign\n",
      "\n",
      "    :Summary Statistics:\n",
      "\n",
      "    ===================================== ====== ======\n",
      "                                           Min    Max\n",
      "    ===================================== ====== ======\n",
      "    radius (mean):                        6.981  28.11\n",
      "    texture (mean):                       9.71   39.28\n",
      "    perimeter (mean):                     43.79  188.5\n",
      "    area (mean):                          143.5  2501.0\n",
      "    smoothness (mean):                    0.053  0.163\n",
      "    compactness (mean):                   0.019  0.345\n",
      "    concavity (mean):                     0.0    0.427\n",
      "    concave points (mean):                0.0    0.201\n",
      "    symmetry (mean):                      0.106  0.304\n",
      "    fractal dimension (mean):             0.05   0.097\n",
      "    radius (standard error):              0.112  2.873\n",
      "    texture (standard error):             0.36   4.885\n",
      "    perimeter (standard error):           0.757  21.98\n",
      "    area (standard error):                6.802  542.2\n",
      "    smoothness (standard error):          0.002  0.031\n",
      "    compactness (standard error):         0.002  0.135\n",
      "    concavity (standard error):           0.0    0.396\n",
      "    concave points (standard error):      0.0    0.053\n",
      "    symmetry (standard error):            0.008  0.079\n",
      "    fractal dimension (standard error):   0.001  0.03\n",
      "    radius (worst):                       7.93   36.04\n",
      "    texture (worst):                      12.02  49.54\n",
      "    perimeter (worst):                    50.41  251.2\n",
      "    area (worst):                         185.2  4254.0\n",
      "    smoothness (worst):                   0.071  0.223\n",
      "    compactness (worst):                  0.027  1.058\n",
      "    concavity (worst):                    0.0    1.252\n",
      "    concave points (worst):               0.0    0.291\n",
      "    symmetry (worst):                     0.156  0.664\n",
      "    fractal dimension (worst):            0.055  0.208\n",
      "    ===================================== ====== ======\n",
      "\n",
      "    :Missing Attribute Values: None\n",
      "\n",
      "    :Class Distribution: 212 - Malignant, 357 - Benign\n",
      "\n",
      "    :Creator:  Dr. William H. Wolberg, W. Nick Street, Olvi L. Mangasarian\n",
      "\n",
      "    :Donor: Nick Street\n",
      "\n",
      "    :Date: November, 1995\n",
      "\n",
      "This is a copy of UCI ML Breast Cancer Wisconsin (Diagnostic) datasets.\n",
      "https://goo.gl/U2Uwz2\n",
      "\n",
      "Features are computed from a digitized image of a fine needle\n",
      "aspirate (FNA) of a breast mass.  They describe\n",
      "characteristics of the cell nuclei present in the image.\n",
      "\n",
      "Separating plane described above was obtained using\n",
      "Multisurface Method-Tree (MSM-T) [K. P. Bennett, \"Decision Tree\n",
      "Construction Via Linear Programming.\" Proceedings of the 4th\n",
      "Midwest Artificial Intelligence and Cognitive Science Society,\n",
      "pp. 97-101, 1992], a classification method which uses linear\n",
      "programming to construct a decision tree.  Relevant features\n",
      "were selected using an exhaustive search in the space of 1-4\n",
      "features and 1-3 separating planes.\n",
      "\n",
      "The actual linear program used to obtain the separating plane\n",
      "in the 3-dimensional space is that described in:\n",
      "[K. P. Bennett and O. L. Mangasarian: \"Robust Linear\n",
      "Programming Discrimination of Two Linearly Inseparable Sets\",\n",
      "Optimization Methods and Software 1, 1992, 23-34].\n",
      "\n",
      "This database is also available through the UW CS ftp server:\n",
      "\n",
      "ftp ftp.cs.wisc.edu\n",
      "cd math-prog/cpo-dataset/machine-learn/WDBC/\n",
      "\n",
      ".. topic:: References\n",
      "\n",
      "   - W.N. Street, W.H. Wolberg and O.L. Mangasarian. Nuclear feature extraction \n",
      "     for breast tumor diagnosis. IS&T/SPIE 1993 International Symposium on \n",
      "     Electronic Imaging: Science and Technology, volume 1905, pages 861-870,\n",
      "     San Jose, CA, 1993.\n",
      "   - O.L. Mangasarian, W.N. Street and W.H. Wolberg. Breast cancer diagnosis and \n",
      "     prognosis via linear programming. Operations Research, 43(4), pages 570-577, \n",
      "     July-August 1995.\n",
      "   - W.H. Wolberg, W.N. Street, and O.L. Mangasarian. Machine learning techniques\n",
      "     to diagnose breast cancer from fine-needle aspirates. Cancer Letters 77 (1994) \n",
      "     163-171.\n"
     ]
    }
   ],
   "source": [
    "breast_cancer = load_breast_cancer()\n",
    "print(breast_cancer.DESCR)"
   ]
  },
  {
   "cell_type": "markdown",
   "metadata": {},
   "source": [
    "Como siempre, obtengamos nuestra matriz de diseño y vector de respuesta"
   ]
  },
  {
   "cell_type": "code",
   "execution_count": 3,
   "metadata": {},
   "outputs": [],
   "source": [
    "X, y = breast_cancer.data, breast_cancer.target\n",
    "X_train, X_test, y_train, y_test = train_test_split(X, y, test_size=.3, random_state=42)"
   ]
  },
  {
   "cell_type": "code",
   "execution_count": 4,
   "metadata": {},
   "outputs": [
    {
     "data": {
      "text/plain": [
       "array([0, 1])"
      ]
     },
     "execution_count": 4,
     "metadata": {},
     "output_type": "execute_result"
    }
   ],
   "source": [
    "np.unique(y)"
   ]
  },
  {
   "cell_type": "code",
   "execution_count": 5,
   "metadata": {},
   "outputs": [
    {
     "data": {
      "text/plain": [
       "array(['malignant', 'benign'], dtype='<U9')"
      ]
     },
     "execution_count": 5,
     "metadata": {},
     "output_type": "execute_result"
    }
   ],
   "source": [
    "target_names = breast_cancer.target_names\n",
    "target_names"
   ]
  },
  {
   "cell_type": "markdown",
   "metadata": {},
   "source": [
    "Ajustemos un modelo de regresión logística a los datos"
   ]
  },
  {
   "cell_type": "code",
   "execution_count": 6,
   "metadata": {},
   "outputs": [],
   "source": [
    "clf = LogisticRegression(max_iter=1000, n_jobs=-1)\n",
    "clf.fit(X_train, y_train)\n",
    "y_pred = clf.predict(X_test)"
   ]
  },
  {
   "cell_type": "markdown",
   "metadata": {},
   "source": [
    "Rápidamente podemos visualizar la matriz de confusión"
   ]
  },
  {
   "cell_type": "code",
   "execution_count": 7,
   "metadata": {},
   "outputs": [
    {
     "data": {
      "image/png": "[encoded data removed]",
      "text/plain": [
       "<Figure size 432x288 with 2 Axes>"
      ]
     },
     "metadata": {
      "needs_background": "light"
     },
     "output_type": "display_data"
    }
   ],
   "source": [
    "from sklearn.metrics import plot_confusion_matrix\n",
    "plot_confusion_matrix(clf, X_test, y_test, display_labels=target_names)\n",
    "plt.show()"
   ]
  },
  {
   "cell_type": "markdown",
   "metadata": {},
   "source": [
    "Como también calcular algunas métricas"
   ]
  },
  {
   "cell_type": "code",
   "execution_count": 8,
   "metadata": {},
   "outputs": [
    {
     "name": "stdout",
     "output_type": "stream",
     "text": [
      "Accuracy score: 0.96\n",
      "Recall score: 0.98\n",
      "F1 score: 0.97\n"
     ]
    }
   ],
   "source": [
    "from sklearn.metrics import accuracy_score, recall_score, f1_score\n",
    "\n",
    "print(f\"Accuracy score: {accuracy_score(y_test, y_pred):0.2f}\")\n",
    "print(f\"Recall score: {recall_score(y_test, y_pred):0.2f}\")\n",
    "print(f\"F1 score: {f1_score(y_test, y_pred):0.2f}\")"
   ]
  },
  {
   "cell_type": "markdown",
   "metadata": {},
   "source": [
    "Incluso tener un reporte mucho más rápido"
   ]
  },
  {
   "cell_type": "code",
   "execution_count": 9,
   "metadata": {},
   "outputs": [
    {
     "name": "stdout",
     "output_type": "stream",
     "text": [
      "              precision    recall  f1-score   support\n",
      "\n",
      "   malignant       0.97      0.94      0.95        63\n",
      "      benign       0.96      0.98      0.97       108\n",
      "\n",
      "    accuracy                           0.96       171\n",
      "   macro avg       0.97      0.96      0.96       171\n",
      "weighted avg       0.96      0.96      0.96       171\n",
      "\n"
     ]
    }
   ],
   "source": [
    "from sklearn.metrics import classification_report\n",
    "print(classification_report(y_test, y_pred, target_names=breast_cancer.target_names))"
   ]
  },
  {
   "cell_type": "markdown",
   "metadata": {},
   "source": [
    "Otra métrica interesante es _Average Precision (AP)_, la cual no es más que un promedio ponderado de la precisión alcanzada en cada umbral (_threshold_)\n",
    "\n",
    "$$\n",
    "AP = \\sum_{n} (R_n - R_{n-1})P_n\n",
    "$$\n",
    "donde $P_n$ y $R_n$ son _precision_ y _recall_ correspondientes al $n$-ésimo umbral."
   ]
  },
  {
   "cell_type": "code",
   "execution_count": 10,
   "metadata": {},
   "outputs": [
    {
     "name": "stdout",
     "output_type": "stream",
     "text": [
      "Average precision-recall score: 0.96\n"
     ]
    }
   ],
   "source": [
    "from sklearn.metrics import average_precision_score\n",
    "\n",
    "print(f'Average precision-recall score: {average_precision_score(y_test, y_pred):0.2f}')"
   ]
  },
  {
   "cell_type": "markdown",
   "metadata": {},
   "source": [
    "Pero donde uno puede sacar mucho provecho es con un gráfico que nos muestre la relación entre _precision_ y _recall_ a medida que varía el umbral"
   ]
  },
  {
   "cell_type": "code",
   "execution_count": 17,
   "metadata": {},
   "outputs": [
    {
     "data": {
      "image/png": "[encoded data removed]",
      "text/plain": [
       "<Figure size 432x288 with 1 Axes>"
      ]
     },
     "metadata": {
      "needs_background": "light"
     },
     "output_type": "display_data"
    }
   ],
   "source": [
    "from sklearn.metrics import plot_precision_recall_curve, precision_recall_curve\n",
    "\n",
    "disp = plot_precision_recall_curve(clf, X_test, y_test)\n",
    "disp.ax_.set_title(f'2-class Precision-Recall curve');"
   ]
  },
  {
   "cell_type": "markdown",
   "metadata": {},
   "source": [
    "Internamente, los umbrales del estimador varían y utiliza la predicción en probabilidad del estimador."
   ]
  },
  {
   "cell_type": "code",
   "execution_count": 18,
   "metadata": {},
   "outputs": [
    {
     "data": {
      "text/plain": [
       "array([[1.89262882e-01, 8.10737118e-01],\n",
       "       [9.99999998e-01, 1.93930893e-09],\n",
       "       [9.98613630e-01, 1.38636999e-03],\n",
       "       [3.21334977e-03, 9.96786650e-01],\n",
       "       [7.46060622e-04, 9.99253939e-01],\n",
       "       [1.00000000e+00, 1.82239523e-10],\n",
       "       [1.00000000e+00, 7.05390806e-13],\n",
       "       [9.87301125e-01, 1.26988750e-02],\n",
       "       [3.17660122e-03, 9.96823399e-01],\n",
       "       [9.02586100e-03, 9.90974139e-01],\n",
       "       [6.48930359e-02, 9.35106964e-01],\n",
       "       [9.99545359e-01, 4.54641290e-04],\n",
       "       [9.36314243e-03, 9.90636858e-01],\n",
       "       [8.55233942e-01, 1.44766058e-01],\n",
       "       [1.50997587e-03, 9.98490024e-01],\n",
       "       [9.99302433e-01, 6.97566906e-04],\n",
       "       [2.05652011e-03, 9.97943480e-01],\n",
       "       [3.91134050e-04, 9.99608866e-01],\n",
       "       [8.31923233e-04, 9.99168077e-01],\n",
       "       [9.99999950e-01, 5.01182674e-08],\n",
       "       [1.52320625e-01, 8.47679375e-01],\n",
       "       [1.52514816e-02, 9.84748518e-01],\n",
       "       [1.00000000e+00, 2.59660733e-10],\n",
       "       [4.60870991e-03, 9.95391290e-01],\n",
       "       [1.45136100e-02, 9.85486390e-01],\n",
       "       [4.92103178e-04, 9.99507897e-01],\n",
       "       [2.08444144e-03, 9.97915559e-01],\n",
       "       [1.42436488e-02, 9.85756351e-01],\n",
       "       [6.53501169e-03, 9.93464988e-01],\n",
       "       [9.99999997e-01, 2.51714510e-09],\n",
       "       [8.13863713e-03, 9.91861363e-01],\n",
       "       [7.79097739e-04, 9.99220902e-01],\n",
       "       [2.38571721e-02, 9.76142828e-01],\n",
       "       [2.01768639e-02, 9.79823136e-01],\n",
       "       [1.70553412e-03, 9.98294466e-01],\n",
       "       [5.36913111e-03, 9.94630869e-01],\n",
       "       [9.97113697e-01, 2.88630275e-03],\n",
       "       [4.89448125e-03, 9.95105519e-01],\n",
       "       [9.99997492e-01, 2.50764778e-06],\n",
       "       [2.59891803e-01, 7.40108197e-01],\n",
       "       [3.01913935e-03, 9.96980861e-01],\n",
       "       [9.99408619e-01, 5.91381254e-04],\n",
       "       [1.69160481e-03, 9.98308395e-01],\n",
       "       [1.15472704e-02, 9.88452730e-01],\n",
       "       [2.18111400e-03, 9.97818886e-01],\n",
       "       [5.53228776e-02, 9.44677122e-01],\n",
       "       [1.25327110e-03, 9.98746729e-01],\n",
       "       [2.05672129e-02, 9.79432787e-01],\n",
       "       [7.85992731e-02, 9.21400727e-01],\n",
       "       [4.02055346e-03, 9.95979447e-01],\n",
       "       [9.99962253e-01, 3.77470659e-05],\n",
       "       [9.99999999e-01, 6.46454343e-10],\n",
       "       [1.31570293e-01, 8.68429707e-01],\n",
       "       [1.02956250e-03, 9.98970437e-01],\n",
       "       [1.82518735e-03, 9.98174813e-01],\n",
       "       [2.21855548e-02, 9.77814445e-01],\n",
       "       [2.62427251e-03, 9.97375727e-01],\n",
       "       [1.00000000e+00, 8.05679107e-15],\n",
       "       [3.36386483e-01, 6.63613517e-01],\n",
       "       [3.68862554e-04, 9.99631137e-01],\n",
       "       [1.80929828e-02, 9.81907017e-01],\n",
       "       [9.99999916e-01, 8.44252408e-08],\n",
       "       [1.00000000e+00, 7.93740326e-12],\n",
       "       [8.87250229e-02, 9.11274977e-01],\n",
       "       [4.39216751e-03, 9.95607832e-01],\n",
       "       [1.61189262e-01, 8.38810738e-01],\n",
       "       [9.99991669e-01, 8.33149427e-06],\n",
       "       [9.99999999e-01, 7.54749744e-10],\n",
       "       [2.06724131e-03, 9.97932759e-01],\n",
       "       [2.84351475e-02, 9.71564853e-01],\n",
       "       [9.79497254e-01, 2.05027462e-02],\n",
       "       [9.99968621e-01, 3.13787140e-05],\n",
       "       [2.48016462e-03, 9.97519835e-01],\n",
       "       [8.85696433e-01, 1.14303567e-01],\n",
       "       [3.01031788e-02, 9.69896821e-01],\n",
       "       [2.13099308e-03, 9.97869007e-01],\n",
       "       [4.42784485e-02, 9.55721552e-01],\n",
       "       [4.68550294e-01, 5.31449706e-01],\n",
       "       [1.57900997e-03, 9.98420990e-01],\n",
       "       [3.54658900e-03, 9.96453411e-01],\n",
       "       [9.99103438e-01, 8.96561543e-04],\n",
       "       [2.22472436e-03, 9.97775276e-01],\n",
       "       [4.63185632e-01, 5.36814368e-01],\n",
       "       [1.00000000e+00, 9.10637950e-12],\n",
       "       [9.99039788e-01, 9.60211767e-04],\n",
       "       [9.65355498e-01, 3.46445023e-02],\n",
       "       [9.98357918e-01, 1.64208207e-03],\n",
       "       [9.99999858e-01, 1.41594145e-07],\n",
       "       [8.63478770e-03, 9.91365212e-01],\n",
       "       [3.76027742e-03, 9.96239723e-01],\n",
       "       [1.36916563e-02, 9.86308344e-01],\n",
       "       [8.78480896e-02, 9.12151910e-01],\n",
       "       [1.14176479e-01, 8.85823521e-01],\n",
       "       [8.44274768e-03, 9.91557252e-01],\n",
       "       [1.81879559e-03, 9.98181204e-01],\n",
       "       [3.10918225e-03, 9.96890818e-01],\n",
       "       [9.99999983e-01, 1.67446204e-08],\n",
       "       [9.99999196e-01, 8.03870671e-07],\n",
       "       [2.79180856e-04, 9.99720819e-01],\n",
       "       [9.99930205e-01, 6.97954598e-05],\n",
       "       [9.99894558e-01, 1.05441754e-04],\n",
       "       [1.23587161e-04, 9.99876413e-01],\n",
       "       [9.99999996e-01, 3.79865200e-09],\n",
       "       [9.98771785e-01, 1.22821485e-03],\n",
       "       [1.36307297e-01, 8.63692703e-01],\n",
       "       [7.25742753e-02, 9.27425725e-01],\n",
       "       [1.69851532e-02, 9.83014847e-01],\n",
       "       [1.00000000e+00, 1.47819489e-18],\n",
       "       [2.37865036e-02, 9.76213496e-01],\n",
       "       [8.96629566e-02, 9.10337043e-01],\n",
       "       [9.99827245e-01, 1.72754624e-04],\n",
       "       [3.00980916e-03, 9.96990191e-01],\n",
       "       [8.13139181e-01, 1.86860819e-01],\n",
       "       [1.00000000e+00, 1.57935121e-29],\n",
       "       [6.72763752e-02, 9.32723625e-01],\n",
       "       [1.00000000e+00, 1.55378061e-11],\n",
       "       [1.09280808e-03, 9.98907192e-01],\n",
       "       [1.02925273e-01, 8.97074727e-01],\n",
       "       [1.25969650e-03, 9.98740303e-01],\n",
       "       [9.99170065e-01, 8.29934867e-04],\n",
       "       [7.04324487e-01, 2.95675513e-01],\n",
       "       [1.42017966e-03, 9.98579820e-01],\n",
       "       [1.01922471e-02, 9.89807753e-01],\n",
       "       [9.99982735e-01, 1.72654591e-05],\n",
       "       [6.73235683e-02, 9.32676432e-01],\n",
       "       [9.99999999e-01, 8.39523904e-10],\n",
       "       [9.99047312e-01, 9.52688035e-04],\n",
       "       [1.76798106e-02, 9.82320189e-01],\n",
       "       [3.49288722e-03, 9.96507113e-01],\n",
       "       [9.99999995e-01, 5.37796122e-09],\n",
       "       [1.00000000e+00, 2.69371236e-14],\n",
       "       [9.99591106e-01, 4.08893649e-04],\n",
       "       [1.27954005e-01, 8.72045995e-01],\n",
       "       [2.23065852e-03, 9.97769341e-01],\n",
       "       [3.26861718e-02, 9.67313828e-01],\n",
       "       [9.47345680e-01, 5.26543203e-02],\n",
       "       [5.73837542e-02, 9.42616246e-01],\n",
       "       [8.30604961e-03, 9.91693950e-01],\n",
       "       [1.29748434e-01, 8.70251566e-01],\n",
       "       [9.92454627e-01, 7.54537349e-03],\n",
       "       [8.18839006e-03, 9.91811610e-01],\n",
       "       [1.00000000e+00, 1.57317784e-15],\n",
       "       [4.06152608e-04, 9.99593847e-01],\n",
       "       [2.47201148e-04, 9.99752799e-01],\n",
       "       [9.82734203e-01, 1.72657966e-02],\n",
       "       [1.77723967e-02, 9.82227603e-01],\n",
       "       [9.99997820e-01, 2.17977631e-06],\n",
       "       [9.99999833e-01, 1.66595442e-07],\n",
       "       [7.18665461e-01, 2.81334539e-01],\n",
       "       [4.65589306e-03, 9.95344107e-01],\n",
       "       [9.81209543e-01, 1.87904574e-02],\n",
       "       [8.79334759e-04, 9.99120665e-01],\n",
       "       [1.25866126e-03, 9.98741339e-01],\n",
       "       [4.56242632e-02, 9.54375737e-01],\n",
       "       [2.09623652e-02, 9.79037635e-01],\n",
       "       [1.00000000e+00, 1.00188733e-16],\n",
       "       [9.99758113e-01, 2.41886792e-04],\n",
       "       [2.98554604e-02, 9.70144540e-01],\n",
       "       [4.86819438e-03, 9.95131806e-01],\n",
       "       [2.57867201e-04, 9.99742133e-01],\n",
       "       [1.26900566e-05, 9.99987310e-01],\n",
       "       [7.72292527e-03, 9.92277075e-01],\n",
       "       [6.56379472e-03, 9.93436205e-01],\n",
       "       [6.34094193e-03, 9.93659058e-01],\n",
       "       [9.64839722e-01, 3.51602782e-02],\n",
       "       [1.04428563e-02, 9.89557144e-01],\n",
       "       [6.97638710e-04, 9.99302361e-01],\n",
       "       [3.41316382e-01, 6.58683618e-01],\n",
       "       [1.62087090e-02, 9.83791291e-01],\n",
       "       [9.39794558e-01, 6.02054421e-02],\n",
       "       [4.05941827e-02, 9.59405817e-01]])"
      ]
     },
     "execution_count": 18,
     "metadata": {},
     "output_type": "execute_result"
    }
   ],
   "source": [
    "clf.predict_proba(X_test)"
   ]
  }
 ],
 "metadata": {
  "kernelspec": {
   "display_name": "Python 3",
   "language": "python",
   "name": "python3"
  },
  "language_info": {
   "codemirror_mode": {
    "name": "ipython",
    "version": 3
   },
   "file_extension": ".py",
   "mimetype": "text/x-python",
   "name": "python",
   "nbconvert_exporter": "python",
   "pygments_lexer": "ipython3",
   "version": "3.7.8"
  }
 },
 "nbformat": 4,
 "nbformat_minor": 4
}
